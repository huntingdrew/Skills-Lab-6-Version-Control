{
 "cells": [
  {
   "cell_type": "markdown",
   "metadata": {},
   "source": [
    "# Lab Exercises\n",
    "\n",
    "## Mini Group: Making a Repository\n"
   ]
  },
  {
   "cell_type": "code",
   "execution_count": 1,
   "metadata": {},
   "outputs": [
    {
     "name": "stdin",
     "output_type": "stream",
     "text": [
      "Please enter your name:  ht\n",
      "What's your favorite number?  3\n"
     ]
    },
    {
     "name": "stdout",
     "output_type": "stream",
     "text": [
      "Hello ht! Your favorite number is 3, and your magic number is 8.\n"
     ]
    }
   ],
   "source": [
    "def calculate_magic_number(favorite_number):\n",
    "    \"\"\"Simple function to calculate a 'magic number' from the favorite number.\"\"\"\n",
    "    magic_number = (favorite_number * 2) + 3 - (favorite_number % 2)\n",
    "    return magic_number\n",
    "\n",
    "def createmessage(name, favorite_number, magic_number):\n",
    "    \"\"\"Create a personalized message with the name, favorite number, and magic number.\"\"\"\n",
    "    message = f\"Hello {name}! Your favorite number is {favorite_number}, \" \\\n",
    "              f\"and your magic number is {magic_number}.\"\n",
    "    return message\n",
    "\n",
    "username = input(\"Please enter your name: \")\n",
    "\n",
    "user_favorite_number = int(input(\"What's your favorite number? \"))\n",
    "\n",
    "user_magic_number = calculate_magic_number(user_favorite_number)\n",
    "\n",
    "lab6message = createmessage(username, user_favorite_number, user_magic_number)\n",
    "\n",
    "print(lab6message)"
   ]
  }
 ],
 "metadata": {
  "kernelspec": {
   "display_name": "Python 3",
   "language": "python",
   "name": "python3"
  },
  "language_info": {
   "codemirror_mode": {
    "name": "ipython",
    "version": 3
   },
   "file_extension": ".py",
   "mimetype": "text/x-python",
   "name": "python",
   "nbconvert_exporter": "python",
   "pygments_lexer": "ipython3",
   "version": "3.8.3"
  }
 },
 "nbformat": 4,
 "nbformat_minor": 4
}
